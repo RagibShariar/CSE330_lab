{
 "cells": [
  {
   "cell_type": "markdown",
   "metadata": {},
   "source": [
    "Before you turn this problem in, make sure everything runs as expected. First, **restart the kernel** (in the menubar, select Kernel$\\rightarrow$Restart) and then **run all cells** (in the menubar, select Cell$\\rightarrow$Run All).\n",
    "\n",
    "Make sure you fill in any place that says `YOUR CODE HERE` or \"YOUR ANSWER HERE\", as well as your name and collaborators below:"
   ]
  },
  {
   "cell_type": "code",
   "execution_count": null,
   "metadata": {},
   "outputs": [],
   "source": [
    "NAME = \"\"\n",
    "COLLABORATORS = \"\""
   ]
  },
  {
   "cell_type": "markdown",
   "metadata": {},
   "source": [
    "---"
   ]
  },
  {
   "cell_type": "markdown",
   "metadata": {
    "deletable": false,
    "editable": false,
    "nbgrader": {
     "cell_type": "markdown",
     "checksum": "4323c48f5d5276b38804080cab43e0d5",
     "grade": false,
     "grade_id": "title",
     "locked": true,
     "schema_version": 3,
     "solution": false,
     "task": false
    }
   },
   "source": [
    "Polynomial Root Finding Using Bisection Method\n",
    "---\n",
    "\n",
    "### `pandas` Dataframe:\n",
    "Before we start we will know a little about `pandas` dataframe. `pandas` is a python library. Dataframes are classes that are used to store complex data. You can initialize one as a python dictionary. Let's take a look. "
   ]
  },
  {
   "cell_type": "code",
   "execution_count": 1,
   "metadata": {
    "deletable": false,
    "editable": false,
    "nbgrader": {
     "cell_type": "code",
     "checksum": "adc6b91c35993f4ecedcfd53d807a206",
     "grade": false,
     "grade_id": "pd",
     "locked": true,
     "schema_version": 3,
     "solution": false,
     "task": false
    }
   },
   "outputs": [
    {
     "data": {
      "text/html": [
       "<div>\n",
       "<style scoped>\n",
       "    .dataframe tbody tr th:only-of-type {\n",
       "        vertical-align: middle;\n",
       "    }\n",
       "\n",
       "    .dataframe tbody tr th {\n",
       "        vertical-align: top;\n",
       "    }\n",
       "\n",
       "    .dataframe thead th {\n",
       "        text-align: right;\n",
       "    }\n",
       "</style>\n",
       "<table border=\"1\" class=\"dataframe\">\n",
       "  <thead>\n",
       "    <tr style=\"text-align: right;\">\n",
       "      <th></th>\n",
       "      <th>x</th>\n",
       "      <th>y</th>\n",
       "    </tr>\n",
       "  </thead>\n",
       "  <tbody>\n",
       "    <tr>\n",
       "      <th>0</th>\n",
       "      <td>0</td>\n",
       "      <td>1.0</td>\n",
       "    </tr>\n",
       "    <tr>\n",
       "      <th>1</th>\n",
       "      <td>1</td>\n",
       "      <td>5.2</td>\n",
       "    </tr>\n",
       "    <tr>\n",
       "      <th>2</th>\n",
       "      <td>2</td>\n",
       "      <td>3.9</td>\n",
       "    </tr>\n",
       "    <tr>\n",
       "      <th>3</th>\n",
       "      <td>3</td>\n",
       "      <td>8.4</td>\n",
       "    </tr>\n",
       "    <tr>\n",
       "      <th>4</th>\n",
       "      <td>4</td>\n",
       "      <td>14.6</td>\n",
       "    </tr>\n",
       "    <tr>\n",
       "      <th>5</th>\n",
       "      <td>5</td>\n",
       "      <td>12.3</td>\n",
       "    </tr>\n",
       "    <tr>\n",
       "      <th>6</th>\n",
       "      <td>6</td>\n",
       "      <td>8.9</td>\n",
       "    </tr>\n",
       "    <tr>\n",
       "      <th>7</th>\n",
       "      <td>7</td>\n",
       "      <td>10.2</td>\n",
       "    </tr>\n",
       "  </tbody>\n",
       "</table>\n",
       "</div>"
      ],
      "text/plain": [
       "   x     y\n",
       "0  0   1.0\n",
       "1  1   5.2\n",
       "2  2   3.9\n",
       "3  3   8.4\n",
       "4  4  14.6\n",
       "5  5  12.3\n",
       "6  6   8.9\n",
       "7  7  10.2"
      ]
     },
     "execution_count": 1,
     "metadata": {},
     "output_type": "execute_result"
    }
   ],
   "source": [
    "import pandas as pd\n",
    "\n",
    "x = [0, 1, 2, 3, 4, 5, 6, 7]\n",
    "y = [1.0, 5.2, 3.9, 8.4, 14.6, 12.3, 8.9, 10.2]\n",
    "\n",
    "dictionary = {\n",
    "    \"x\": x,\n",
    "    \"y\": y,\n",
    "}\n",
    "df = pd.DataFrame(dictionary)\n",
    "df.head(8)"
   ]
  },
  {
   "cell_type": "markdown",
   "metadata": {
    "deletable": false,
    "editable": false,
    "nbgrader": {
     "cell_type": "markdown",
     "checksum": "e8de09a00f2f32f8cfbb6b7823ebb992",
     "grade": false,
     "grade_id": "np_into",
     "locked": true,
     "schema_version": 3,
     "solution": false,
     "task": false
    }
   },
   "source": [
    "We can use it to print data in a tabular format. We can even use more numpy arrays with it."
   ]
  },
  {
   "cell_type": "code",
   "execution_count": 2,
   "metadata": {
    "deletable": false,
    "editable": false,
    "nbgrader": {
     "cell_type": "code",
     "checksum": "b7b72bb172e2e46389ca4f41fd18628d",
     "grade": false,
     "grade_id": "np",
     "locked": true,
     "schema_version": 3,
     "solution": false,
     "task": false
    }
   },
   "outputs": [
    {
     "data": {
      "text/html": [
       "<div>\n",
       "<style scoped>\n",
       "    .dataframe tbody tr th:only-of-type {\n",
       "        vertical-align: middle;\n",
       "    }\n",
       "\n",
       "    .dataframe tbody tr th {\n",
       "        vertical-align: top;\n",
       "    }\n",
       "\n",
       "    .dataframe thead th {\n",
       "        text-align: right;\n",
       "    }\n",
       "</style>\n",
       "<table border=\"1\" class=\"dataframe\">\n",
       "  <thead>\n",
       "    <tr style=\"text-align: right;\">\n",
       "      <th></th>\n",
       "      <th>x</th>\n",
       "      <th>sin(x)</th>\n",
       "    </tr>\n",
       "  </thead>\n",
       "  <tbody>\n",
       "    <tr>\n",
       "      <th>0</th>\n",
       "      <td>0.000000</td>\n",
       "      <td>0.000000</td>\n",
       "    </tr>\n",
       "    <tr>\n",
       "      <th>1</th>\n",
       "      <td>0.112200</td>\n",
       "      <td>0.111964</td>\n",
       "    </tr>\n",
       "    <tr>\n",
       "      <th>2</th>\n",
       "      <td>0.224399</td>\n",
       "      <td>0.222521</td>\n",
       "    </tr>\n",
       "    <tr>\n",
       "      <th>3</th>\n",
       "      <td>0.336599</td>\n",
       "      <td>0.330279</td>\n",
       "    </tr>\n",
       "    <tr>\n",
       "      <th>4</th>\n",
       "      <td>0.448799</td>\n",
       "      <td>0.433884</td>\n",
       "    </tr>\n",
       "    <tr>\n",
       "      <th>5</th>\n",
       "      <td>0.560999</td>\n",
       "      <td>0.532032</td>\n",
       "    </tr>\n",
       "    <tr>\n",
       "      <th>6</th>\n",
       "      <td>0.673198</td>\n",
       "      <td>0.623490</td>\n",
       "    </tr>\n",
       "    <tr>\n",
       "      <th>7</th>\n",
       "      <td>0.785398</td>\n",
       "      <td>0.707107</td>\n",
       "    </tr>\n",
       "    <tr>\n",
       "      <th>8</th>\n",
       "      <td>0.897598</td>\n",
       "      <td>0.781831</td>\n",
       "    </tr>\n",
       "    <tr>\n",
       "      <th>9</th>\n",
       "      <td>1.009798</td>\n",
       "      <td>0.846724</td>\n",
       "    </tr>\n",
       "    <tr>\n",
       "      <th>10</th>\n",
       "      <td>1.121997</td>\n",
       "      <td>0.900969</td>\n",
       "    </tr>\n",
       "    <tr>\n",
       "      <th>11</th>\n",
       "      <td>1.234197</td>\n",
       "      <td>0.943883</td>\n",
       "    </tr>\n",
       "    <tr>\n",
       "      <th>12</th>\n",
       "      <td>1.346397</td>\n",
       "      <td>0.974928</td>\n",
       "    </tr>\n",
       "    <tr>\n",
       "      <th>13</th>\n",
       "      <td>1.458597</td>\n",
       "      <td>0.993712</td>\n",
       "    </tr>\n",
       "    <tr>\n",
       "      <th>14</th>\n",
       "      <td>1.570796</td>\n",
       "      <td>1.000000</td>\n",
       "    </tr>\n",
       "  </tbody>\n",
       "</table>\n",
       "</div>"
      ],
      "text/plain": [
       "           x    sin(x)\n",
       "0   0.000000  0.000000\n",
       "1   0.112200  0.111964\n",
       "2   0.224399  0.222521\n",
       "3   0.336599  0.330279\n",
       "4   0.448799  0.433884\n",
       "5   0.560999  0.532032\n",
       "6   0.673198  0.623490\n",
       "7   0.785398  0.707107\n",
       "8   0.897598  0.781831\n",
       "9   1.009798  0.846724\n",
       "10  1.121997  0.900969\n",
       "11  1.234197  0.943883\n",
       "12  1.346397  0.974928\n",
       "13  1.458597  0.993712\n",
       "14  1.570796  1.000000"
      ]
     },
     "execution_count": 2,
     "metadata": {},
     "output_type": "execute_result"
    }
   ],
   "source": [
    "import numpy as np\n",
    "\n",
    "x = np.linspace(0, np.pi/2, 15)\n",
    "y = np.sin(x)\n",
    "\n",
    "dictionary = {\n",
    "    \"x\": x,\n",
    "    \"sin(x)\": y,\n",
    "}\n",
    "df = pd.DataFrame(dictionary)\n",
    "df.head(15)"
   ]
  },
  {
   "cell_type": "markdown",
   "metadata": {
    "deletable": false,
    "editable": false,
    "nbgrader": {
     "cell_type": "markdown",
     "checksum": "2e1c412437306d2e9b0078176867e80c",
     "grade": false,
     "grade_id": "root_intro",
     "locked": true,
     "schema_version": 3,
     "solution": false,
     "task": false
    }
   },
   "source": [
    "### Root Finding:\n",
    "Let $f(x)$ be a function of $x$. if for some $x=\\alpha, f(x) = f(\\alpha) = 0$, we say $\\alpha$ is a root of function $x$.\n",
    "\n",
    "Let, \n",
    "$$f(x) = x^5 + 2.5x^4 - 2x^3 -6x^2 + x + 2\\tag{6.1}$$\n",
    "\n",
    "The graph of $f(x)$ looks like this."
   ]
  },
  {
   "cell_type": "code",
   "execution_count": 3,
   "metadata": {
    "deletable": false,
    "editable": false,
    "nbgrader": {
     "cell_type": "code",
     "checksum": "4ce0042b4443a4efb1d8a72637033625",
     "grade": false,
     "grade_id": "example",
     "locked": true,
     "schema_version": 3,
     "solution": false,
     "task": false
    },
    "scrolled": true
   },
   "outputs": [
    {
     "name": "stdout",
     "output_type": "stream",
     "text": [
      "[-2.         -1.92076271 -0.5819979   0.67242436  1.33033625]\n"
     ]
    },
    {
     "data": {
      "image/png": "[encoded data removed]",
      "text/plain": [
       "<Figure size 432x288 with 1 Axes>"
      ]
     },
     "metadata": {
      "needs_background": "light"
     },
     "output_type": "display_data"
    }
   ],
   "source": [
    "from numpy.polynomial import Polynomial\n",
    "import matplotlib.pyplot as plt\n",
    "\n",
    "f = Polynomial([2.0, 1.0, -6.0, -2.0, 2.5, 1.0])\n",
    "x = np.linspace(-2.5, 1.5, 100)\n",
    "y = f(x)\n",
    "dictionary = {\n",
    "    'x': x,\n",
    "    'y': y\n",
    "}\n",
    "plt.axhline(y=0, color='k')\n",
    "plt.plot(x, y)\n",
    "plt.plot(f.roots(), [0.0]*5, 'ro')\n",
    "print(f.roots())"
   ]
  },
  {
   "cell_type": "markdown",
   "metadata": {
    "deletable": false,
    "editable": false,
    "nbgrader": {
     "cell_type": "markdown",
     "checksum": "a77a2920b884f394a02829392b097131",
     "grade": false,
     "grade_id": "bisection_intro",
     "locked": true,
     "schema_version": 3,
     "solution": false,
     "task": false
    }
   },
   "source": [
    "Roots are the points where the graph intersects with the $X$-axis.\n",
    "\n",
    "### Bisection\n",
    "\n",
    "One way to find out root's are to use bisection method. Here is the strategy, if $\\alpha$ is a root between and interval $[a, b]$ then graph will cross the $X$-axis at $\\alpha$. So, $sign( f(\\alpha-h) ) = - sign( f(\\alpha+h) )$, for small value of $h$. \n",
    "\n",
    "So, we can work our way up towards the root by taking average of $a$ and $b$, as long as the signs are different.\n",
    "\n",
    "we will start with $a_0$ and $b_0$, such that, $f(a_0) f(b_0) < 0$.\n",
    "Then we iterate as this,\n",
    "\\begin{align}\n",
    "m_k &= \\frac{a_k + b_k}{2} \\\\\n",
    "\\text{if, } f(a_k) f(m_k) < 0, \\text{ then, } a_{k+1} &= a_k \\text{ and } b_{k+1} = m_k\\\\\n",
    "\\text{else, } a_{k+1} &= m_k \\text{ and, } b_{k+1} = b_k\n",
    "\\end{align}\n",
    "\n",
    "We keep iterating until we find the root with sufficient precision. We usually use a formula like this,\n",
    "$$\n",
    "\\frac{|m_{k+1} - m_k|}{|m_{k+1}|} \\leq \\epsilon \\\\  \n",
    "$$\n",
    "Where, $\\epsilon$ is a very small value, like $\\epsilon < 10^{-6}$\n",
    "\n",
    "### Complete the code below\n",
    "Complete the code below to iterate and solve for a root of the following equation, between the interval, $[-0.5, 1.3]$:\n",
    "\\begin{aligned}\n",
    "    f(x) = 2 + x - 6x^2 - 2x^3 + 2.5x^4 + x^5.\n",
    "\\end{aligned}"
   ]
  },
  {
   "cell_type": "code",
   "execution_count": 4,
   "metadata": {
    "deletable": false,
    "nbgrader": {
     "cell_type": "code",
     "checksum": "353790d28940953af6b0393fb8ceffdd",
     "grade": false,
     "grade_id": "ans",
     "locked": false,
     "schema_version": 3,
     "solution": true,
     "task": false
    }
   },
   "outputs": [],
   "source": [
    "import numpy as np\n",
    "import pandas as pd\n",
    "import matplotlib.pyplot as plt\n",
    "from numpy.polynomial import Polynomial\n",
    "\n",
    "# The polynomial and the range is defined for you\n",
    "f = Polynomial([2.0, 1.0, -6.0, -2.0, 2.5, 1.0])\n",
    "a = -0.5\n",
    "b = 1.3\n",
    "m = (a + b) / 2\n",
    "e = 1e-6\n",
    "\n",
    "root = 0.0    # You need to update this value\n",
    "\n",
    "# Populate the following lists in each iteration\n",
    "list_a = []\n",
    "list_b = []\n",
    "list_m = []\n",
    "list_f = []\n",
    "\n",
    "# YOUR CODE HERE\n",
    "#raise NotImplementedError()\n",
    "while True:\n",
    "    val = (abs(m-root)/abs(m))\n",
    "    if (val) < e:\n",
    "        break\n",
    "    if f(a)*f(m) < 0:\n",
    "        b=m\n",
    "    else:\n",
    "        a=m\n",
    "    list_a.append(a)\n",
    "    list_b.append(b)\n",
    "    list_m.append(m)\n",
    "    list_f.append(f(m))\n",
    "    root = m\n",
    "    m=(a+b)/2"
   ]
  },
  {
   "cell_type": "code",
   "execution_count": 5,
   "metadata": {
    "deletable": false,
    "editable": false,
    "nbgrader": {
     "cell_type": "code",
     "checksum": "9065170383cb6c29ec4dff8e6f16955f",
     "grade": true,
     "grade_id": "test",
     "locked": true,
     "points": 10,
     "schema_version": 3,
     "solution": false,
     "task": false
    }
   },
   "outputs": [
    {
     "name": "stdout",
     "output_type": "stream",
     "text": [
      "           a         b         m      f(m)\n",
      "0   0.400000  1.300000  0.400000  1.386240\n",
      "1   0.400000  0.850000  0.850000 -0.964529\n",
      "2   0.625000  0.850000  0.625000  0.269806\n",
      "3   0.625000  0.737500  0.737500 -0.370437\n",
      "4   0.625000  0.681250  0.681250 -0.050487\n",
      "5   0.653125  0.681250  0.653125  0.110236\n",
      "6   0.667188  0.681250  0.667188  0.029945\n",
      "7   0.667188  0.674219  0.674219 -0.010263\n",
      "8   0.670703  0.674219  0.670703  0.009844\n",
      "9   0.670703  0.672461  0.672461 -0.000209\n",
      "10  0.671582  0.672461  0.671582  0.004817\n",
      "11  0.672021  0.672461  0.672021  0.002304\n",
      "12  0.672241  0.672461  0.672241  0.001048\n",
      "13  0.672351  0.672461  0.672351  0.000419\n",
      "14  0.672406  0.672461  0.672406  0.000105\n",
      "15  0.672406  0.672433  0.672433 -0.000052\n",
      "16  0.672420  0.672433  0.672420  0.000026\n",
      "17  0.672420  0.672427  0.672427 -0.000013\n",
      "18  0.672423  0.672427  0.672423  0.000007\n",
      "19  0.672423  0.672425  0.672425 -0.000003\n",
      "20  0.672424  0.672425  0.672424  0.000002\n"
     ]
    },
    {
     "data": {
      "image/png": "[encoded data removed]",
      "text/plain": [
       "<Figure size 432x288 with 1 Axes>"
      ]
     },
     "metadata": {
      "needs_background": "light"
     },
     "output_type": "display_data"
    }
   ],
   "source": [
    "xs = np.linspace(-2.5, 1.5, 100)\n",
    "ys = f(xs)\n",
    "\n",
    "plt.axhline(y=0, color='k')\n",
    "plt.plot(xs, ys)\n",
    "plt.plot(root, f(root), 'ro')\n",
    "\n",
    "print(pd.DataFrame({'a':list_a, 'b':list_b, 'm':list_m, 'f(m)':list_f}))\n",
    "\n",
    "assert \"{:.3f}\".format(root) == \"0.672\""
   ]
  },
  {
   "cell_type": "code",
   "execution_count": null,
   "metadata": {},
   "outputs": [],
   "source": []
  },
  {
   "cell_type": "code",
   "execution_count": null,
   "metadata": {},
   "outputs": [],
   "source": []
  }
 ],
 "metadata": {
  "kernelspec": {
   "display_name": "Python 3",
   "language": "python",
   "name": "python3"
  },
  "language_info": {
   "codemirror_mode": {
    "name": "ipython",
    "version": 3
   },
   "file_extension": ".py",
   "mimetype": "text/x-python",
   "name": "python",
   "nbconvert_exporter": "python",
   "pygments_lexer": "ipython3",
   "version": "3.7.3"
  }
 },
 "nbformat": 4,
 "nbformat_minor": 2
}
